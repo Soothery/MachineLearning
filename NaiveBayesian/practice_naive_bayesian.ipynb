{
 "cells": [
  {
   "cell_type": "code",
   "execution_count": 1,
   "metadata": {},
   "outputs": [],
   "source": [
    "import  numpy as np\n",
    "import pandas as pd\n",
    "import matplotlib.pyplot as plt\n",
    "from sklearn import datasets"
   ]
  },
  {
   "cell_type": "markdown",
   "metadata": {},
   "source": [
    "## 高斯分布：\n",
    "$\n",
    "P(x|\\mu,\\Sigma) = \n",
    "\\frac{1}{(2\\pi)^\\frac{D}{2}} \n",
    "\\frac{1}{\\Sigma^{\\frac{1}{2}}}\n",
    "exp\\left\\{-\\frac{1}{2}(x-\\mu)^T\\Sigma^{-1}(x-\\mu)\\right\\}\n",
    "$   \n",
    "\n",
    "高斯分布的贝叶斯推断：    \n",
    "$ \\mu = \\frac{1}{N}\\sum_{n=1}^Nx_n $    \n",
    "$ \\Sigma = \\frac{1}{N-1}\\sum_{n=1}^N(x_n-\\mu)^T(x_n-\\mu) $"
   ]
  },
  {
   "cell_type": "code",
   "execution_count": 32,
   "metadata": {},
   "outputs": [],
   "source": [
    "class GaussianNB():\n",
    "    \n",
    "    \"\"\"\n",
    "    假设特征符合高斯分布，采用最大似然概率计算出P(x|y)的mu及sigma，然后通过贝叶斯定理计算P（y|x）\n",
    "    修改：\n",
    "    1. 采用ndarray来存放数据（初始的维度？在函数中创建还是类中创建？）\n",
    "    2. \n",
    "    \"\"\"\n",
    "    \n",
    "    def fit(self, X, y):\n",
    "        n_features = X.shape[1]\n",
    "        n_classes = len(np.unique(y))    \n",
    "        \n",
    "        self.mu = np.zeros((n_classes, n_features))\n",
    "        self.sigma = np.zeros((n_classes, n_features, n_features))\n",
    "        self.classes = np.unique(y)\n",
    "        \n",
    "        for y_i in self.classes:\n",
    "            i = self.classes.searchsorted(y_i)   # y与mu、sigma建立对应关系\n",
    "            X_i = X[y == y_i]\n",
    "            self.mu[i, :] = np.mean(X_i, axis=0)\n",
    "            self.sigma[i] = (1/(X_i.shape[0]-1)) * ( (X_i-self.mu[i, :]).T.dot(X_i-self.mu[i, :]) ) \n",
    "        self.sigma\n",
    "        return self\n",
    "            \n",
    "    def predict(self, X):\n",
    "        predict_y = np.zeros(X.shape[0])\n",
    "        probability = np.zeros((X.shape[0], len(self.classes)))\n",
    "        for n, X_i in enumerate(X): \n",
    "            for y_i in self.classes:\n",
    "                i = self.classes.searchsorted(y_i)\n",
    "                probability[n, i] =( 1/( (2*np.pi)**0.5*np.linalg.det(self.sigma[i])**0.5 ) * \n",
    "                              np.exp(-0.5*((X_i-self.mu[i].T)@(np.linalg.inv(self.sigma[i]))@(X_i-self.mu[i])) ))\n",
    "                                \n",
    "        \n",
    "        p_max_index = np.argmax(probability, axis=1)\n",
    "        classes = self.classes\n",
    "        predict_y = np.asarray([self.classes[x] for x in p_max_index])\n",
    "        #predict_y = self.classes[range(len(probability)), p_max_index]\n",
    "            \n",
    "        return predict_y"
   ]
  },
  {
   "cell_type": "code",
   "execution_count": 33,
   "metadata": {},
   "outputs": [
    {
     "name": "stdout",
     "output_type": "stream",
     "text": [
      "0.8000\n",
      "[[[0.12424898 0.09921633]\n",
      "  [0.09921633 0.1436898 ]]\n",
      "\n",
      " [[0.26643265 0.08518367]\n",
      "  [0.08518367 0.09846939]]\n",
      "\n",
      " [[0.40434286 0.09376327]\n",
      "  [0.09376327 0.10400408]]]\n"
     ]
    },
    {
     "data": {
      "image/png": "[encoded data removed]",
      "text/plain": [
       "<Figure size 720x504 with 1 Axes>"
      ]
     },
     "metadata": {
      "needs_background": "light"
     },
     "output_type": "display_data"
    }
   ],
   "source": [
    "def make_meshgrid(x, y, h=0.2):\n",
    "    x_min, x_max = x.min()-1, x.max()+1\n",
    "    y_min, y_max = y.min()-1, y.max()+1\n",
    "    \n",
    "    xx, yy = np.meshgrid(np.arange(x_min, x_max, h),\n",
    "                              np.arange(y_min, y_max, h))\n",
    "    return xx, yy\n",
    "\n",
    "def plot_contours(xx, yy, **params):\n",
    "    np.c_[xx.ravel(), yy.ravel()]\n",
    "    Z = nb.predict(np.c_[xx.ravel(), yy.ravel()])\n",
    "    Z = Z.reshape(xx.shape)\n",
    "    out = plt.contourf(xx, yy, Z, **params)\n",
    "    return out\n",
    "\n",
    "\n",
    "iris = datasets.load_iris()\n",
    "x = iris.data[:,:2]\n",
    "y = iris.target\n",
    "\n",
    "c = int(np.floor(x.shape[0]*0.8))\n",
    "\"\"\"train_x = x[:c]\n",
    "train_y = y[:c]\n",
    "test_x = x[c:]\n",
    "test_y = y[c:]\n",
    "\"\"\"\n",
    "nb = GaussianNB()\n",
    "nb.fit(x, y)\n",
    "\n",
    "X1, X2 = x[:,0], x[:,1]\n",
    "xx, yy = make_meshgrid(X1, X2)\n",
    "figure, ax = plt.subplots(figsize=(10,7))\n",
    "plot_contours(xx, yy, cmap = plt.cm.coolwarm, alpha=0.8)\n",
    "plt.scatter(x[:,0], x[:,1], c=y, cmap=plt.cm.coolwarm, s=20, edgecolors='k')\n",
    "\n",
    "# 计算预测的准确率\n",
    "total_num = len(y)\n",
    "positive_num = (nb.predict(x)==y).sum()\n",
    "accuracy = positive_num/total_num\n",
    "print('%.4f'%accuracy)\n",
    "print(nb.sigma)"
   ]
  },
  {
   "cell_type": "code",
   "execution_count": 99,
   "metadata": {},
   "outputs": [
    {
     "data": {
      "text/plain": [
       "array([3, 2, 2, 2, 0], dtype=int64)"
      ]
     },
     "execution_count": 99,
     "metadata": {},
     "output_type": "execute_result"
    }
   ],
   "source": []
  },
  {
   "cell_type": "code",
   "execution_count": 41,
   "metadata": {},
   "outputs": [
    {
     "data": {
      "text/plain": [
       "2"
      ]
     },
     "execution_count": 41,
     "metadata": {},
     "output_type": "execute_result"
    }
   ],
   "source": [
    "x = np.arange(12).reshape(3,2,2)\n",
    "x=2\n",
    "x"
   ]
  },
  {
   "cell_type": "code",
   "execution_count": 85,
   "metadata": {},
   "outputs": [
    {
     "data": {
      "text/plain": [
       "2"
      ]
     },
     "execution_count": 85,
     "metadata": {},
     "output_type": "execute_result"
    }
   ],
   "source": [
    "np.as"
   ]
  },
  {
   "cell_type": "code",
   "execution_count": 6,
   "metadata": {},
   "outputs": [
    {
     "data": {
      "text/plain": [
       "array([[3, 3, 3, 3],\n",
       "       [7, 7, 7, 7]])"
      ]
     },
     "execution_count": 6,
     "metadata": {},
     "output_type": "execute_result"
    }
   ],
   "source": [
    "x[[1,2],:]-b"
   ]
  },
  {
   "cell_type": "code",
   "execution_count": 104,
   "metadata": {},
   "outputs": [],
   "source": [
    "class NaiveBayesian():\n",
    "    \"\"\"\n",
    "    假设特征符合高斯分布，采用最大似然概率计算出P(x|y)的mu及sigma，然后通过贝叶斯定理计算P（y|x）\n",
    "    修改：\n",
    "    1. 采用ndarray来存放数据（初始的维度？在函数中创建还是类中创建？）\n",
    "    2. \n",
    "    \"\"\"\n",
    "    mus = []\n",
    "    sigmas = []\n",
    "    probability = []\n",
    "    target = []\n",
    "    \n",
    "    def fit(self, x, y):\n",
    "        _x = []\n",
    "        self.mus = []\n",
    "        self.sigmas = []\n",
    "        self.target = np.unique(y)\n",
    "        for i, _y in enumerate(np.unique(y)):\n",
    "            _x.append(x[y == _y])\n",
    "            self.mus.append(np.mean(_x[i], axis=0))\n",
    "            self.sigmas.append(np.transpose(_x[i] -self. mus[i]).dot(_x[i]-self.mus[i])/_x[i].shape[0])\n",
    "\n",
    "    def predict(self, x):\n",
    "        predict_y = []\n",
    "        self.probability = []\n",
    "        for x_ in x:\n",
    "            p = []\n",
    "            for mu,sigma in zip(self.mus,self.sigmas):\n",
    "                # print(x_ - mu)\n",
    "#             print(np.linalg.inv(sigma))\n",
    "                pow_ = np.exp(-np.transpose(x_ - mu).dot(np.linalg.inv(sigma)).dot(x_ - mu)/2)\n",
    "                factor = 1/(np.pi**(sigma.shape[0]/2)*2)/np.linalg.det(sigma)**(0.5)\n",
    "                p.append(pow_ / factor)\n",
    "            p_ = np.array(p)\n",
    "            self.probability.append(p_/p_.sum())\n",
    "            \n",
    "        for p in self.probability:\n",
    "            predict_y.append(self.target[p.argmax()])\n",
    "            \n",
    "        return np.array(predict_y)"
   ]
  }
 ],
 "metadata": {
  "kernelspec": {
   "display_name": "Python 3",
   "language": "python",
   "name": "python3"
  },
  "language_info": {
   "codemirror_mode": {
    "name": "ipython",
    "version": 3
   },
   "file_extension": ".py",
   "mimetype": "text/x-python",
   "name": "python",
   "nbconvert_exporter": "python",
   "pygments_lexer": "ipython3",
   "version": "3.7.2"
  }
 },
 "nbformat": 4,
 "nbformat_minor": 2
}
